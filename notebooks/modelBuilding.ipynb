{
 "cells": [
  {
   "cell_type": "markdown",
   "metadata": {},
   "source": [
    "Importing Libraries\n"
   ]
  },
  {
   "cell_type": "code",
   "execution_count": 1,
   "metadata": {},
   "outputs": [],
   "source": [
    "import pandas as pd\n",
    "import numpy as np\n",
    "import pickle"
   ]
  },
  {
   "cell_type": "markdown",
   "metadata": {},
   "source": [
    "Importing the files\n"
   ]
  },
  {
   "cell_type": "code",
   "execution_count": 2,
   "metadata": {},
   "outputs": [],
   "source": [
    "train=pd.read_csv(r\"C:\\Users\\neelu\\Documents\\VIT stuff\\sem4\\ML\\Classification\\input\\train.csv\")\n",
    "test=pd.read_csv(r\"C:\\Users\\neelu\\Documents\\VIT stuff\\sem4\\ML\\Classification\\input\\test.csv\")"
   ]
  },
  {
   "cell_type": "markdown",
   "metadata": {},
   "source": [
    "Removing random indices generated \n",
    " "
   ]
  },
  {
   "cell_type": "code",
   "execution_count": 3,
   "metadata": {},
   "outputs": [
    {
     "data": {
      "text/html": [
       "<div>\n",
       "<style scoped>\n",
       "    .dataframe tbody tr th:only-of-type {\n",
       "        vertical-align: middle;\n",
       "    }\n",
       "\n",
       "    .dataframe tbody tr th {\n",
       "        vertical-align: top;\n",
       "    }\n",
       "\n",
       "    .dataframe thead th {\n",
       "        text-align: right;\n",
       "    }\n",
       "</style>\n",
       "<table border=\"1\" class=\"dataframe\">\n",
       "  <thead>\n",
       "    <tr style=\"text-align: right;\">\n",
       "      <th></th>\n",
       "      <th>Unnamed: 0</th>\n",
       "      <th>culmen_length_mm</th>\n",
       "      <th>culmen_depth_mm</th>\n",
       "      <th>flipper_length_mm</th>\n",
       "      <th>body_mass_g</th>\n",
       "      <th>island</th>\n",
       "      <th>species</th>\n",
       "      <th>sex</th>\n",
       "    </tr>\n",
       "  </thead>\n",
       "  <tbody>\n",
       "    <tr>\n",
       "      <th>0</th>\n",
       "      <td>225</td>\n",
       "      <td>0.916995</td>\n",
       "      <td>-0.541564</td>\n",
       "      <td>1.074194</td>\n",
       "      <td>1.670315</td>\n",
       "      <td>0.0</td>\n",
       "      <td>2.0</td>\n",
       "      <td>0.0</td>\n",
       "    </tr>\n",
       "    <tr>\n",
       "      <th>1</th>\n",
       "      <td>133</td>\n",
       "      <td>-0.786161</td>\n",
       "      <td>0.373872</td>\n",
       "      <td>-0.569284</td>\n",
       "      <td>0.053411</td>\n",
       "      <td>1.0</td>\n",
       "      <td>0.0</td>\n",
       "      <td>1.0</td>\n",
       "    </tr>\n",
       "    <tr>\n",
       "      <th>2</th>\n",
       "      <td>29</td>\n",
       "      <td>-1.390507</td>\n",
       "      <td>-0.083846</td>\n",
       "      <td>-0.426373</td>\n",
       "      <td>-1.097078</td>\n",
       "      <td>0.0</td>\n",
       "      <td>0.0</td>\n",
       "      <td>1.0</td>\n",
       "    </tr>\n",
       "    <tr>\n",
       "      <th>3</th>\n",
       "      <td>145</td>\n",
       "      <td>-0.456518</td>\n",
       "      <td>0.679017</td>\n",
       "      <td>0.002360</td>\n",
       "      <td>-0.257532</td>\n",
       "      <td>1.0</td>\n",
       "      <td>0.0</td>\n",
       "      <td>1.0</td>\n",
       "    </tr>\n",
       "    <tr>\n",
       "      <th>4</th>\n",
       "      <td>104</td>\n",
       "      <td>-1.079177</td>\n",
       "      <td>-0.338134</td>\n",
       "      <td>-0.212006</td>\n",
       "      <td>-0.475192</td>\n",
       "      <td>0.0</td>\n",
       "      <td>0.0</td>\n",
       "      <td>0.0</td>\n",
       "    </tr>\n",
       "    <tr>\n",
       "      <th>...</th>\n",
       "      <td>...</td>\n",
       "      <td>...</td>\n",
       "      <td>...</td>\n",
       "      <td>...</td>\n",
       "      <td>...</td>\n",
       "      <td>...</td>\n",
       "      <td>...</td>\n",
       "      <td>...</td>\n",
       "    </tr>\n",
       "    <tr>\n",
       "      <th>60</th>\n",
       "      <td>210</td>\n",
       "      <td>-0.090248</td>\n",
       "      <td>0.475587</td>\n",
       "      <td>0.073816</td>\n",
       "      <td>-1.003795</td>\n",
       "      <td>1.0</td>\n",
       "      <td>1.0</td>\n",
       "      <td>1.0</td>\n",
       "    </tr>\n",
       "    <tr>\n",
       "      <th>61</th>\n",
       "      <td>98</td>\n",
       "      <td>-1.115804</td>\n",
       "      <td>0.729875</td>\n",
       "      <td>-0.569284</td>\n",
       "      <td>-1.594587</td>\n",
       "      <td>1.0</td>\n",
       "      <td>0.0</td>\n",
       "      <td>0.0</td>\n",
       "    </tr>\n",
       "    <tr>\n",
       "      <th>62</th>\n",
       "      <td>120</td>\n",
       "      <td>-0.950982</td>\n",
       "      <td>0.221299</td>\n",
       "      <td>-0.712196</td>\n",
       "      <td>-1.159266</td>\n",
       "      <td>2.0</td>\n",
       "      <td>0.0</td>\n",
       "      <td>0.0</td>\n",
       "    </tr>\n",
       "    <tr>\n",
       "      <th>63</th>\n",
       "      <td>239</td>\n",
       "      <td>0.385904</td>\n",
       "      <td>-1.050140</td>\n",
       "      <td>1.002739</td>\n",
       "      <td>1.110617</td>\n",
       "      <td>0.0</td>\n",
       "      <td>2.0</td>\n",
       "      <td>1.0</td>\n",
       "    </tr>\n",
       "    <tr>\n",
       "      <th>64</th>\n",
       "      <td>170</td>\n",
       "      <td>0.495785</td>\n",
       "      <td>0.373872</td>\n",
       "      <td>-0.426373</td>\n",
       "      <td>-1.128172</td>\n",
       "      <td>1.0</td>\n",
       "      <td>1.0</td>\n",
       "      <td>0.0</td>\n",
       "    </tr>\n",
       "  </tbody>\n",
       "</table>\n",
       "<p>65 rows × 8 columns</p>\n",
       "</div>"
      ],
      "text/plain": [
       "    Unnamed: 0  culmen_length_mm  culmen_depth_mm  flipper_length_mm  \\\n",
       "0          225          0.916995        -0.541564           1.074194   \n",
       "1          133         -0.786161         0.373872          -0.569284   \n",
       "2           29         -1.390507        -0.083846          -0.426373   \n",
       "3          145         -0.456518         0.679017           0.002360   \n",
       "4          104         -1.079177        -0.338134          -0.212006   \n",
       "..         ...               ...              ...                ...   \n",
       "60         210         -0.090248         0.475587           0.073816   \n",
       "61          98         -1.115804         0.729875          -0.569284   \n",
       "62         120         -0.950982         0.221299          -0.712196   \n",
       "63         239          0.385904        -1.050140           1.002739   \n",
       "64         170          0.495785         0.373872          -0.426373   \n",
       "\n",
       "    body_mass_g  island  species  sex  \n",
       "0      1.670315     0.0      2.0  0.0  \n",
       "1      0.053411     1.0      0.0  1.0  \n",
       "2     -1.097078     0.0      0.0  1.0  \n",
       "3     -0.257532     1.0      0.0  1.0  \n",
       "4     -0.475192     0.0      0.0  0.0  \n",
       "..          ...     ...      ...  ...  \n",
       "60    -1.003795     1.0      1.0  1.0  \n",
       "61    -1.594587     1.0      0.0  0.0  \n",
       "62    -1.159266     2.0      0.0  0.0  \n",
       "63     1.110617     0.0      2.0  1.0  \n",
       "64    -1.128172     1.0      1.0  0.0  \n",
       "\n",
       "[65 rows x 8 columns]"
      ]
     },
     "execution_count": 3,
     "metadata": {},
     "output_type": "execute_result"
    }
   ],
   "source": [
    "test"
   ]
  },
  {
   "cell_type": "code",
   "execution_count": 4,
   "metadata": {},
   "outputs": [],
   "source": [
    "test=test.drop(['Unnamed: 0'],axis=1)\n"
   ]
  },
  {
   "cell_type": "code",
   "execution_count": 5,
   "metadata": {},
   "outputs": [
    {
     "data": {
      "text/html": [
       "<div>\n",
       "<style scoped>\n",
       "    .dataframe tbody tr th:only-of-type {\n",
       "        vertical-align: middle;\n",
       "    }\n",
       "\n",
       "    .dataframe tbody tr th {\n",
       "        vertical-align: top;\n",
       "    }\n",
       "\n",
       "    .dataframe thead th {\n",
       "        text-align: right;\n",
       "    }\n",
       "</style>\n",
       "<table border=\"1\" class=\"dataframe\">\n",
       "  <thead>\n",
       "    <tr style=\"text-align: right;\">\n",
       "      <th></th>\n",
       "      <th>culmen_length_mm</th>\n",
       "      <th>culmen_depth_mm</th>\n",
       "      <th>flipper_length_mm</th>\n",
       "      <th>body_mass_g</th>\n",
       "      <th>island</th>\n",
       "      <th>species</th>\n",
       "      <th>sex</th>\n",
       "    </tr>\n",
       "  </thead>\n",
       "  <tbody>\n",
       "    <tr>\n",
       "      <th>0</th>\n",
       "      <td>0.916995</td>\n",
       "      <td>-0.541564</td>\n",
       "      <td>1.074194</td>\n",
       "      <td>1.670315</td>\n",
       "      <td>0.0</td>\n",
       "      <td>2.0</td>\n",
       "      <td>0.0</td>\n",
       "    </tr>\n",
       "    <tr>\n",
       "      <th>1</th>\n",
       "      <td>-0.786161</td>\n",
       "      <td>0.373872</td>\n",
       "      <td>-0.569284</td>\n",
       "      <td>0.053411</td>\n",
       "      <td>1.0</td>\n",
       "      <td>0.0</td>\n",
       "      <td>1.0</td>\n",
       "    </tr>\n",
       "    <tr>\n",
       "      <th>2</th>\n",
       "      <td>-1.390507</td>\n",
       "      <td>-0.083846</td>\n",
       "      <td>-0.426373</td>\n",
       "      <td>-1.097078</td>\n",
       "      <td>0.0</td>\n",
       "      <td>0.0</td>\n",
       "      <td>1.0</td>\n",
       "    </tr>\n",
       "    <tr>\n",
       "      <th>3</th>\n",
       "      <td>-0.456518</td>\n",
       "      <td>0.679017</td>\n",
       "      <td>0.002360</td>\n",
       "      <td>-0.257532</td>\n",
       "      <td>1.0</td>\n",
       "      <td>0.0</td>\n",
       "      <td>1.0</td>\n",
       "    </tr>\n",
       "    <tr>\n",
       "      <th>4</th>\n",
       "      <td>-1.079177</td>\n",
       "      <td>-0.338134</td>\n",
       "      <td>-0.212006</td>\n",
       "      <td>-0.475192</td>\n",
       "      <td>0.0</td>\n",
       "      <td>0.0</td>\n",
       "      <td>0.0</td>\n",
       "    </tr>\n",
       "    <tr>\n",
       "      <th>...</th>\n",
       "      <td>...</td>\n",
       "      <td>...</td>\n",
       "      <td>...</td>\n",
       "      <td>...</td>\n",
       "      <td>...</td>\n",
       "      <td>...</td>\n",
       "      <td>...</td>\n",
       "    </tr>\n",
       "    <tr>\n",
       "      <th>60</th>\n",
       "      <td>-0.090248</td>\n",
       "      <td>0.475587</td>\n",
       "      <td>0.073816</td>\n",
       "      <td>-1.003795</td>\n",
       "      <td>1.0</td>\n",
       "      <td>1.0</td>\n",
       "      <td>1.0</td>\n",
       "    </tr>\n",
       "    <tr>\n",
       "      <th>61</th>\n",
       "      <td>-1.115804</td>\n",
       "      <td>0.729875</td>\n",
       "      <td>-0.569284</td>\n",
       "      <td>-1.594587</td>\n",
       "      <td>1.0</td>\n",
       "      <td>0.0</td>\n",
       "      <td>0.0</td>\n",
       "    </tr>\n",
       "    <tr>\n",
       "      <th>62</th>\n",
       "      <td>-0.950982</td>\n",
       "      <td>0.221299</td>\n",
       "      <td>-0.712196</td>\n",
       "      <td>-1.159266</td>\n",
       "      <td>2.0</td>\n",
       "      <td>0.0</td>\n",
       "      <td>0.0</td>\n",
       "    </tr>\n",
       "    <tr>\n",
       "      <th>63</th>\n",
       "      <td>0.385904</td>\n",
       "      <td>-1.050140</td>\n",
       "      <td>1.002739</td>\n",
       "      <td>1.110617</td>\n",
       "      <td>0.0</td>\n",
       "      <td>2.0</td>\n",
       "      <td>1.0</td>\n",
       "    </tr>\n",
       "    <tr>\n",
       "      <th>64</th>\n",
       "      <td>0.495785</td>\n",
       "      <td>0.373872</td>\n",
       "      <td>-0.426373</td>\n",
       "      <td>-1.128172</td>\n",
       "      <td>1.0</td>\n",
       "      <td>1.0</td>\n",
       "      <td>0.0</td>\n",
       "    </tr>\n",
       "  </tbody>\n",
       "</table>\n",
       "<p>65 rows × 7 columns</p>\n",
       "</div>"
      ],
      "text/plain": [
       "    culmen_length_mm  culmen_depth_mm  flipper_length_mm  body_mass_g  island  \\\n",
       "0           0.916995        -0.541564           1.074194     1.670315     0.0   \n",
       "1          -0.786161         0.373872          -0.569284     0.053411     1.0   \n",
       "2          -1.390507        -0.083846          -0.426373    -1.097078     0.0   \n",
       "3          -0.456518         0.679017           0.002360    -0.257532     1.0   \n",
       "4          -1.079177        -0.338134          -0.212006    -0.475192     0.0   \n",
       "..               ...              ...                ...          ...     ...   \n",
       "60         -0.090248         0.475587           0.073816    -1.003795     1.0   \n",
       "61         -1.115804         0.729875          -0.569284    -1.594587     1.0   \n",
       "62         -0.950982         0.221299          -0.712196    -1.159266     2.0   \n",
       "63          0.385904        -1.050140           1.002739     1.110617     0.0   \n",
       "64          0.495785         0.373872          -0.426373    -1.128172     1.0   \n",
       "\n",
       "    species  sex  \n",
       "0       2.0  0.0  \n",
       "1       0.0  1.0  \n",
       "2       0.0  1.0  \n",
       "3       0.0  1.0  \n",
       "4       0.0  0.0  \n",
       "..      ...  ...  \n",
       "60      1.0  1.0  \n",
       "61      0.0  0.0  \n",
       "62      0.0  0.0  \n",
       "63      2.0  1.0  \n",
       "64      1.0  0.0  \n",
       "\n",
       "[65 rows x 7 columns]"
      ]
     },
     "execution_count": 5,
     "metadata": {},
     "output_type": "execute_result"
    }
   ],
   "source": [
    "test"
   ]
  },
  {
   "cell_type": "code",
   "execution_count": 6,
   "metadata": {},
   "outputs": [
    {
     "data": {
      "text/html": [
       "<div>\n",
       "<style scoped>\n",
       "    .dataframe tbody tr th:only-of-type {\n",
       "        vertical-align: middle;\n",
       "    }\n",
       "\n",
       "    .dataframe tbody tr th {\n",
       "        vertical-align: top;\n",
       "    }\n",
       "\n",
       "    .dataframe thead th {\n",
       "        text-align: right;\n",
       "    }\n",
       "</style>\n",
       "<table border=\"1\" class=\"dataframe\">\n",
       "  <thead>\n",
       "    <tr style=\"text-align: right;\">\n",
       "      <th></th>\n",
       "      <th>Unnamed: 0</th>\n",
       "      <th>culmen_length_mm</th>\n",
       "      <th>culmen_depth_mm</th>\n",
       "      <th>flipper_length_mm</th>\n",
       "      <th>body_mass_g</th>\n",
       "      <th>island</th>\n",
       "      <th>species</th>\n",
       "      <th>sex</th>\n",
       "    </tr>\n",
       "  </thead>\n",
       "  <tbody>\n",
       "    <tr>\n",
       "      <th>0</th>\n",
       "      <td>220</td>\n",
       "      <td>0.257709</td>\n",
       "      <td>-1.304427</td>\n",
       "      <td>0.716916</td>\n",
       "      <td>0.737486</td>\n",
       "      <td>0.0</td>\n",
       "      <td>2.0</td>\n",
       "      <td>0.0</td>\n",
       "    </tr>\n",
       "    <tr>\n",
       "      <th>1</th>\n",
       "      <td>163</td>\n",
       "      <td>2.565211</td>\n",
       "      <td>0.323014</td>\n",
       "      <td>-1.426752</td>\n",
       "      <td>-0.630663</td>\n",
       "      <td>1.0</td>\n",
       "      <td>1.0</td>\n",
       "      <td>1.0</td>\n",
       "    </tr>\n",
       "    <tr>\n",
       "      <th>2</th>\n",
       "      <td>137</td>\n",
       "      <td>-0.603026</td>\n",
       "      <td>-0.083846</td>\n",
       "      <td>-0.783651</td>\n",
       "      <td>-0.599569</td>\n",
       "      <td>1.0</td>\n",
       "      <td>0.0</td>\n",
       "      <td>1.0</td>\n",
       "    </tr>\n",
       "    <tr>\n",
       "      <th>3</th>\n",
       "      <td>41</td>\n",
       "      <td>-0.529772</td>\n",
       "      <td>0.933305</td>\n",
       "      <td>-1.355296</td>\n",
       "      <td>-0.972701</td>\n",
       "      <td>1.0</td>\n",
       "      <td>0.0</td>\n",
       "      <td>1.0</td>\n",
       "    </tr>\n",
       "    <tr>\n",
       "      <th>4</th>\n",
       "      <td>15</td>\n",
       "      <td>-1.134117</td>\n",
       "      <td>0.577302</td>\n",
       "      <td>-1.926941</td>\n",
       "      <td>-1.003795</td>\n",
       "      <td>2.0</td>\n",
       "      <td>0.0</td>\n",
       "      <td>0.0</td>\n",
       "    </tr>\n",
       "  </tbody>\n",
       "</table>\n",
       "</div>"
      ],
      "text/plain": [
       "   Unnamed: 0  culmen_length_mm  culmen_depth_mm  flipper_length_mm  \\\n",
       "0         220          0.257709        -1.304427           0.716916   \n",
       "1         163          2.565211         0.323014          -1.426752   \n",
       "2         137         -0.603026        -0.083846          -0.783651   \n",
       "3          41         -0.529772         0.933305          -1.355296   \n",
       "4          15         -1.134117         0.577302          -1.926941   \n",
       "\n",
       "   body_mass_g  island  species  sex  \n",
       "0     0.737486     0.0      2.0  0.0  \n",
       "1    -0.630663     1.0      1.0  1.0  \n",
       "2    -0.599569     1.0      0.0  1.0  \n",
       "3    -0.972701     1.0      0.0  1.0  \n",
       "4    -1.003795     2.0      0.0  0.0  "
      ]
     },
     "execution_count": 6,
     "metadata": {},
     "output_type": "execute_result"
    }
   ],
   "source": [
    "train.head()"
   ]
  },
  {
   "cell_type": "code",
   "execution_count": 7,
   "metadata": {},
   "outputs": [],
   "source": [
    "train=train.drop(['Unnamed: 0'],axis=1)"
   ]
  },
  {
   "cell_type": "code",
   "execution_count": 8,
   "metadata": {},
   "outputs": [
    {
     "data": {
      "text/html": [
       "<div>\n",
       "<style scoped>\n",
       "    .dataframe tbody tr th:only-of-type {\n",
       "        vertical-align: middle;\n",
       "    }\n",
       "\n",
       "    .dataframe tbody tr th {\n",
       "        vertical-align: top;\n",
       "    }\n",
       "\n",
       "    .dataframe thead th {\n",
       "        text-align: right;\n",
       "    }\n",
       "</style>\n",
       "<table border=\"1\" class=\"dataframe\">\n",
       "  <thead>\n",
       "    <tr style=\"text-align: right;\">\n",
       "      <th></th>\n",
       "      <th>culmen_length_mm</th>\n",
       "      <th>culmen_depth_mm</th>\n",
       "      <th>flipper_length_mm</th>\n",
       "      <th>body_mass_g</th>\n",
       "      <th>island</th>\n",
       "      <th>species</th>\n",
       "      <th>sex</th>\n",
       "    </tr>\n",
       "  </thead>\n",
       "  <tbody>\n",
       "    <tr>\n",
       "      <th>0</th>\n",
       "      <td>0.257709</td>\n",
       "      <td>-1.304427</td>\n",
       "      <td>0.716916</td>\n",
       "      <td>0.737486</td>\n",
       "      <td>0.0</td>\n",
       "      <td>2.0</td>\n",
       "      <td>0.0</td>\n",
       "    </tr>\n",
       "    <tr>\n",
       "      <th>1</th>\n",
       "      <td>2.565211</td>\n",
       "      <td>0.323014</td>\n",
       "      <td>-1.426752</td>\n",
       "      <td>-0.630663</td>\n",
       "      <td>1.0</td>\n",
       "      <td>1.0</td>\n",
       "      <td>1.0</td>\n",
       "    </tr>\n",
       "    <tr>\n",
       "      <th>2</th>\n",
       "      <td>-0.603026</td>\n",
       "      <td>-0.083846</td>\n",
       "      <td>-0.783651</td>\n",
       "      <td>-0.599569</td>\n",
       "      <td>1.0</td>\n",
       "      <td>0.0</td>\n",
       "      <td>1.0</td>\n",
       "    </tr>\n",
       "    <tr>\n",
       "      <th>3</th>\n",
       "      <td>-0.529772</td>\n",
       "      <td>0.933305</td>\n",
       "      <td>-1.355296</td>\n",
       "      <td>-0.972701</td>\n",
       "      <td>1.0</td>\n",
       "      <td>0.0</td>\n",
       "      <td>1.0</td>\n",
       "    </tr>\n",
       "    <tr>\n",
       "      <th>4</th>\n",
       "      <td>-1.134117</td>\n",
       "      <td>0.577302</td>\n",
       "      <td>-1.926941</td>\n",
       "      <td>-1.003795</td>\n",
       "      <td>2.0</td>\n",
       "      <td>0.0</td>\n",
       "      <td>0.0</td>\n",
       "    </tr>\n",
       "  </tbody>\n",
       "</table>\n",
       "</div>"
      ],
      "text/plain": [
       "   culmen_length_mm  culmen_depth_mm  flipper_length_mm  body_mass_g  island  \\\n",
       "0          0.257709        -1.304427           0.716916     0.737486     0.0   \n",
       "1          2.565211         0.323014          -1.426752    -0.630663     1.0   \n",
       "2         -0.603026        -0.083846          -0.783651    -0.599569     1.0   \n",
       "3         -0.529772         0.933305          -1.355296    -0.972701     1.0   \n",
       "4         -1.134117         0.577302          -1.926941    -1.003795     2.0   \n",
       "\n",
       "   species  sex  \n",
       "0      2.0  0.0  \n",
       "1      1.0  1.0  \n",
       "2      0.0  1.0  \n",
       "3      0.0  1.0  \n",
       "4      0.0  0.0  "
      ]
     },
     "execution_count": 8,
     "metadata": {},
     "output_type": "execute_result"
    }
   ],
   "source": [
    "train.head()"
   ]
  },
  {
   "cell_type": "markdown",
   "metadata": {},
   "source": [
    "K-Nearest Neighbours\n"
   ]
  },
  {
   "cell_type": "code",
   "execution_count": 9,
   "metadata": {},
   "outputs": [],
   "source": [
    "Xtrain=train.drop('species',axis=1)\n",
    "Xtest=test.drop('species',axis=1)\n",
    "Ytrain=train[['species']]\n",
    "Ytest=test[['species']]"
   ]
  },
  {
   "cell_type": "code",
   "execution_count": 10,
   "metadata": {},
   "outputs": [
    {
     "name": "stdout",
     "output_type": "stream",
     "text": [
      "[[28  2  0]\n",
      " [ 4  9  1]\n",
      " [ 0  0 21]]\n"
     ]
    },
    {
     "name": "stderr",
     "output_type": "stream",
     "text": [
      "C:\\Users\\neelu\\AppData\\Local\\Programs\\Python\\Python310\\lib\\site-packages\\sklearn\\neighbors\\_classification.py:198: DataConversionWarning: A column-vector y was passed when a 1d array was expected. Please change the shape of y to (n_samples,), for example using ravel().\n",
      "  return self._fit(X, y)\n"
     ]
    }
   ],
   "source": [
    "from sklearn.neighbors import KNeighborsClassifier\n",
    "from sklearn.metrics import confusion_matrix,classification_report,accuracy_score\n",
    "knn = KNeighborsClassifier(n_neighbors=1)\n",
    "knn.fit(Xtrain,Ytrain)\n",
    "preds_knn = knn.predict(Xtest)\n",
    "print(confusion_matrix(Ytest,preds_knn))"
   ]
  },
  {
   "cell_type": "code",
   "execution_count": 11,
   "metadata": {},
   "outputs": [
    {
     "name": "stdout",
     "output_type": "stream",
     "text": [
      "              precision    recall  f1-score   support\n",
      "\n",
      "         0.0       0.88      0.93      0.90        30\n",
      "         1.0       0.82      0.64      0.72        14\n",
      "         2.0       0.95      1.00      0.98        21\n",
      "\n",
      "    accuracy                           0.89        65\n",
      "   macro avg       0.88      0.86      0.87        65\n",
      "weighted avg       0.89      0.89      0.89        65\n",
      "\n"
     ]
    }
   ],
   "source": [
    "print(classification_report(Ytest,preds_knn))"
   ]
  },
  {
   "cell_type": "code",
   "execution_count": 12,
   "metadata": {},
   "outputs": [
    {
     "name": "stdout",
     "output_type": "stream",
     "text": [
      "0.8923076923076924\n"
     ]
    }
   ],
   "source": [
    "print(accuracy_score(Ytest,preds_knn))"
   ]
  },
  {
   "cell_type": "code",
   "execution_count": 13,
   "metadata": {},
   "outputs": [
    {
     "ename": "FileNotFoundError",
     "evalue": "[Errno 2] No such file or directory: 'C:\\\\Users\\\\neelu\\\\Documents\\\\VIT stuff\\\\sem4\\\\ML\\\\Project 1\\\\model\\\\KNN.pkl'",
     "output_type": "error",
     "traceback": [
      "\u001b[1;31m---------------------------------------------------------------------------\u001b[0m",
      "\u001b[1;31mFileNotFoundError\u001b[0m                         Traceback (most recent call last)",
      "\u001b[1;32m~\\AppData\\Local\\Temp/ipykernel_5656/1092443984.py\u001b[0m in \u001b[0;36m<module>\u001b[1;34m\u001b[0m\n\u001b[1;32m----> 1\u001b[1;33m \u001b[0mpickle\u001b[0m\u001b[1;33m.\u001b[0m\u001b[0mdump\u001b[0m\u001b[1;33m(\u001b[0m\u001b[0mknn\u001b[0m\u001b[1;33m,\u001b[0m\u001b[0mopen\u001b[0m\u001b[1;33m(\u001b[0m\u001b[1;34mr\"C:\\Users\\neelu\\Documents\\VIT stuff\\sem4\\ML\\Project 1\\model\\KNN.pkl\"\u001b[0m\u001b[1;33m,\u001b[0m\u001b[1;34m'wb'\u001b[0m\u001b[1;33m)\u001b[0m\u001b[1;33m)\u001b[0m\u001b[1;33m\u001b[0m\u001b[1;33m\u001b[0m\u001b[0m\n\u001b[0m",
      "\u001b[1;31mFileNotFoundError\u001b[0m: [Errno 2] No such file or directory: 'C:\\\\Users\\\\neelu\\\\Documents\\\\VIT stuff\\\\sem4\\\\ML\\\\Project 1\\\\model\\\\KNN.pkl'"
     ]
    }
   ],
   "source": [
    "pickle.dump(knn,open(r\"C:\\Users\\neelu\\Documents\\VIT stuff\\sem4\\ML\\Project 1\\model\\KNN.pkl\",'wb'))"
   ]
  },
  {
   "cell_type": "markdown",
   "metadata": {},
   "source": [
    "Logistic Regression"
   ]
  },
  {
   "cell_type": "code",
   "execution_count": null,
   "metadata": {},
   "outputs": [],
   "source": [
    "Ytrain1=train.sex\n",
    "Ytest1=test.sex\n",
    "Xtrain1=train.drop('sex',axis=1)\n",
    "Xtest1=test.drop('sex',axis=1)\n"
   ]
  },
  {
   "cell_type": "code",
   "execution_count": null,
   "metadata": {},
   "outputs": [
    {
     "data": {
      "text/plain": [
       "LogisticRegression(random_state=0)"
      ]
     },
     "execution_count": 61,
     "metadata": {},
     "output_type": "execute_result"
    }
   ],
   "source": [
    "from sklearn.linear_model import LogisticRegression\n",
    "classifier=LogisticRegression(random_state=0)\n",
    "classifier.fit(Xtrain1,Ytrain1)"
   ]
  },
  {
   "cell_type": "code",
   "execution_count": null,
   "metadata": {},
   "outputs": [],
   "source": [
    "y_pred=classifier.predict(Xtest1)"
   ]
  },
  {
   "cell_type": "code",
   "execution_count": null,
   "metadata": {},
   "outputs": [
    {
     "name": "stdout",
     "output_type": "stream",
     "text": [
      "Confusion Matrix:\n",
      "  [[23 11]\n",
      " [11 20]]\n"
     ]
    }
   ],
   "source": [
    "cm=confusion_matrix(Ytest1,y_pred)\n",
    "print(\"Confusion Matrix:\\n \",cm)"
   ]
  },
  {
   "cell_type": "code",
   "execution_count": null,
   "metadata": {},
   "outputs": [
    {
     "name": "stdout",
     "output_type": "stream",
     "text": [
      "Accuracy:  0.6615384615384615\n"
     ]
    }
   ],
   "source": [
    "print(\"Accuracy: \",accuracy_score(Ytest1,y_pred))"
   ]
  },
  {
   "cell_type": "code",
   "execution_count": null,
   "metadata": {},
   "outputs": [],
   "source": [
    "pickle.dump(classifier,open(r\"C:\\Users\\neelu\\Documents\\VIT stuff\\sem4\\ML\\Project 1\\model\\Logisticregression.pkl\",'wb'))"
   ]
  }
 ],
 "metadata": {
  "interpreter": {
   "hash": "842ae5446ba7be5d3fa7de974ed813a812e39696bcff508fd164dcaf2ed682d0"
  },
  "kernelspec": {
   "display_name": "Python 3.10.0 64-bit",
   "language": "python",
   "name": "python3"
  },
  "language_info": {
   "codemirror_mode": {
    "name": "ipython",
    "version": 3
   },
   "file_extension": ".py",
   "mimetype": "text/x-python",
   "name": "python",
   "nbconvert_exporter": "python",
   "pygments_lexer": "ipython3",
   "version": "3.10.0"
  },
  "orig_nbformat": 4
 },
 "nbformat": 4,
 "nbformat_minor": 2
}
